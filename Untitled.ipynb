{
 "cells": [
  {
   "cell_type": "code",
   "execution_count": 385,
   "metadata": {},
   "outputs": [],
   "source": [
    "from collections import defaultdict\n",
    "from collections import UserDict\n",
    "from typing import Dict\n",
    "import numpy as np\n",
    "import random\n",
    "\n",
    "import json\n",
    "\n",
    "from dataclasses import dataclass\n",
    "\n",
    "CARRY_THRESHOLD_BASE = 40.0\n",
    "MAX_CAP = 999999.0\n",
    "\n",
    "@dataclass\n",
    "class Minerals:\n",
    "\n",
    "    cap: \"Function or Float\"\n",
    "    _bismor: float = 0.0\n",
    "    _croppa: float = 0.0\n",
    "    _enor_pearl: float = 0.0\n",
    "    _jadiz: float = 0.0\n",
    "    _magnite: float = 0.0\n",
    "    _umanite: float = 0.0\n",
    "        \n",
    "    def __post_init__(self):\n",
    "        for mineral_name in [\n",
    "            \"bismor\",\n",
    "            \"croppa\",\n",
    "            \"enor_pearl\",\n",
    "            \"jadiz\",\n",
    "            \"magnite\",\n",
    "            \"umanite\"\n",
    "        ]:\n",
    "            setattr(type(self),\n",
    "                    mineral_name,\n",
    "                    property(fget=self._get_minerals(mineral_name),\n",
    "                             fset=self._set_capped_minerals(mineral_name)))\n",
    "    \n",
    "    @staticmethod\n",
    "    def _get_minerals(name):\n",
    "        def fget(self):\n",
    "            return getattr(self, \"_\" + name)\n",
    "        fget.__name__ = name\n",
    "        return fget\n",
    "\n",
    "    @staticmethod\n",
    "    def _set_capped_minerals(name):\n",
    "        def fset(self, value):\n",
    "            cap = getattr(self, \"cap\")() if callable(getattr(self, \"cap\")) else getattr(self, \"cap\")\n",
    "            if value > cap:\n",
    "                setattr(self, \"_\" + name, cap)\n",
    "            else:\n",
    "                setattr(self, \"_\" + name, float(value))\n",
    "        fset.__name__ = name + \"_setter\"\n",
    "        return fset\n",
    "    \n",
    "    @property\n",
    "    def values(self):\n",
    "        return {\n",
    "            \"_bismor\": self.bismor,\n",
    "            \"_croppa\": self.croppa,\n",
    "            \"_enor_pearl\": self.enor_pearl,\n",
    "            \"_jadiz\": self.jadiz,\n",
    "            \"_magnite\": self.magnite,\n",
    "            \"_umanite\": self.umanite\n",
    "        }\n",
    "    \n",
    "    def __str__(self):\n",
    "        output = \"\"\n",
    "        for name, value in [\n",
    "            (\"bismor\", self.bismor),\n",
    "            (\"croppa\", self.croppa),\n",
    "            (\"enor_pearl\", self.enor_pearl),\n",
    "            (\"jadiz\", self.jadiz),\n",
    "            (\"magnite\", self.magnite),\n",
    "            (\"umanite\", self.umanite)\n",
    "        ] :\n",
    "            output += \"%s: %s\\n\" % (name, value)\n",
    "        return output\n",
    "    \n",
    "    def __getitem__(self, key):\n",
    "        return getattr(self, key)\n",
    "    \n",
    "    def __setitem__(self, key, value):\n",
    "        setattr(self, key, value)\n",
    "        \n",
    "    def __iter__(self):\n",
    "        return (dwarf for dwarf in self.values)\n",
    "\n",
    "\n",
    "class Dwarf:\n",
    "        \n",
    "    def __init__(self, name, minerals=None, carried_minerals=None):\n",
    "        self.name = name\n",
    "        self.minerals = Minerals(MAX_CAP, **minerals)\n",
    "        self.carried_minerals = Minerals(self.carry_weight, **carried_minerals)\n",
    "        \n",
    "    def mine_random(self, verbose=False):\n",
    "        mineral = random.choice(list(self.carried_minerals.values))\n",
    "        mined_value = np.around(random.uniform(0.1, 10.), 1)\n",
    "        self.carried_minerals[mineral] += mined_value\n",
    "        if verbose:\n",
    "            output = \"You have mined %s %s!\" % (mined_value, mineral[1:])\n",
    "            return output\n",
    "    \n",
    "    def carry_weight(self):\n",
    "        return CARRY_THRESHOLD_BASE + self.equipment_add_weight\n",
    "    \n",
    "    def __str__(self):\n",
    "        output = \"\"\n",
    "        output += \"Dwarf: %s\\n\" % (self.name)\n",
    "        output += \"Minerals: \\n\\t\"\n",
    "        output += str(self.minerals).replace(\"\\n\", \"\\n\\t\")[:-1]\n",
    "        output += \"Carried minerals: \\n\\t\"\n",
    "        output += str(self.carried_minerals).replace(\"\\n\", \"\\n\\t\")\n",
    "        return output\n",
    "    \n",
    "    @property\n",
    "    def equipment_add_weight(self):\n",
    "        return 0\n",
    "\n",
    "    @property\n",
    "    def values(self):\n",
    "        return {\n",
    "            \"name\": self.name,\n",
    "            \"minerals\": self.minerals.values,\n",
    "            \"carried_minerals\": self.carried_minerals.values\n",
    "        }\n",
    "\n",
    "class Dwarf_guild:\n",
    "    \n",
    "    def __init__(self, name: str, init_data: dict=None):\n",
    "        self.name = name\n",
    "        self.dwarfs = {}\n",
    "        if init_data:\n",
    "            for _id, dwarf_data in init_data.items():\n",
    "                self.dwarfs[_id] = Dwarf(**dwarf_data)\n",
    "            \n",
    "    def add_dwarf(self, _id: str, name: str):\n",
    "        if isinstance(_id, int):\n",
    "            _id = str(_id)\n",
    "        self[_id] = Dwarf(name, {}, {})\n",
    "        \n",
    "    def __getitem__(self, key):\n",
    "        if isinstance(key, int):\n",
    "            key = str(key)\n",
    "        return self.dwarfs[key]\n",
    "    \n",
    "    def __setitem__(self, key, value):\n",
    "        if isinstance(key, int):\n",
    "            key = str(key)\n",
    "        self.dwarfs[key] = value\n",
    "        \n",
    "    def __iter__(self):\n",
    "        return (dwarf for dwarf in self.dwarfs)\n",
    "    \n",
    "    def __contains__(self, key):\n",
    "        return str(key) in self.dwarfs\n",
    "        \n",
    "    @property\n",
    "    def values(self):\n",
    "        return {_id: dwarf.values\n",
    "                for _id, dwarf\n",
    "                in self.dwarfs.items()}\n",
    "    \n",
    "    def save_dwarf(self, json_file):\n",
    "        with open(json_file, 'w') as outfile:\n",
    "            json.dump(self.values, outfile)\n"
   ]
  },
  {
   "cell_type": "code",
   "execution_count": 386,
   "metadata": {},
   "outputs": [
    {
     "data": {
      "text/plain": [
       "False"
      ]
     },
     "execution_count": 386,
     "metadata": {},
     "output_type": "execute_result"
    }
   ],
   "source": [
    "isinstance(\"5\", int)"
   ]
  },
  {
   "cell_type": "code",
   "execution_count": 387,
   "metadata": {},
   "outputs": [],
   "source": [
    "with open(\"./dwarf_data.json\") as json_file:\n",
    "    datadwarf = json.load(json_file)\n",
    "dwarfguild = Dwarf_guild(\"toto\", datadwarf)\n",
    "# dwarfguild.add_dwarf(54665645, \"Arthjeed\")\n",
    "# dwarfguild[54665645].carried_minerals.croppa += 15\n",
    "# dwarfguild.save_dwarf(\"./dwarf_data.json\")"
   ]
  },
  {
   "cell_type": "code",
   "execution_count": 388,
   "metadata": {},
   "outputs": [
    {
     "data": {
      "text/plain": [
       "'You have mined 2.4 bismor!'"
      ]
     },
     "execution_count": 388,
     "metadata": {},
     "output_type": "execute_result"
    }
   ],
   "source": [
    "dwarfguild.add_dwarf(\"54665645\", \"Arthjeed\")\n",
    "dwarfguild[\"54665645\"].mine_random(verbose=True)"
   ]
  },
  {
   "cell_type": "code",
   "execution_count": 390,
   "metadata": {},
   "outputs": [
    {
     "data": {
      "text/plain": [
       "True"
      ]
     },
     "execution_count": 390,
     "metadata": {},
     "output_type": "execute_result"
    }
   ],
   "source": [
    "54665645 in dwarfguild"
   ]
  },
  {
   "cell_type": "code",
   "execution_count": 107,
   "metadata": {},
   "outputs": [
    {
     "data": {
      "text/plain": [
       "{'bismor': 0.0,\n",
       " 'croppa': 0.0,\n",
       " 'enor_pearl': 0.0,\n",
       " 'jadiz': 0.0,\n",
       " 'magnite': 0.0,\n",
       " 'umanite': 0.0}"
      ]
     },
     "execution_count": 107,
     "metadata": {},
     "output_type": "execute_result"
    }
   ],
   "source": [
    "Dwarf.minerals.values"
   ]
  },
  {
   "cell_type": "code",
   "execution_count": 98,
   "metadata": {},
   "outputs": [
    {
     "data": {
      "text/plain": [
       "30.0"
      ]
     },
     "execution_count": 98,
     "metadata": {},
     "output_type": "execute_result"
    }
   ],
   "source": [
    "a.umanite = 10\n",
    "a.umanite = 20\n",
    "a.umanite = 50\n",
    "a.umanite = 30\n",
    "a.umanite"
   ]
  },
  {
   "cell_type": "code",
   "execution_count": 21,
   "metadata": {},
   "outputs": [],
   "source": [
    "?? defaultdict.__setitem__"
   ]
  },
  {
   "cell_type": "code",
   "execution_count": 17,
   "metadata": {},
   "outputs": [],
   "source": [
    "with open(\"./dwarf_data.json\", 'w') as outfile:\n",
    "    json.dump(DATADWARF, outfile)"
   ]
  },
  {
   "cell_type": "code",
   "execution_count": 393,
   "metadata": {},
   "outputs": [],
   "source": [
    "from itertools import tee\n",
    "import unidecode\n",
    "import numpy as np\n",
    "\n",
    "def pairwise(iterable):\n",
    "    a, b = tee(iterable)\n",
    "    next(b, None)\n",
    "    return zip(a, b)\n",
    "\n",
    "def love_compute(name_1, name_2, word, normalize=False, string=None):\n",
    "    if not string:\n",
    "        string = get_name_num(name_1, name_2, word)\n",
    "    output = \"\"\n",
    "    for a, b in pairwise(string):\n",
    "        c = int(a) + int(b)\n",
    "        if len(str(c)) != 1:\n",
    "            c = int(str(c)[0]) + int(str(c)[1])\n",
    "        output += str(c)\n",
    "    if len(output) > 2:\n",
    "        output = love_compute(name_1, name_2, word, normalize=False, string=output)\n",
    "    if normalize:\n",
    "        X_std = (int(output) - 11) / (99 - 11)\n",
    "        X_scaled = X_std * (100 - 0) + 0\n",
    "        final_output = np.around(X_scaled, 0)\n",
    "        output = str(int(final_output)) + \"%\"\n",
    "    return output\n",
    "\n",
    "def get_name_num(name_1, name_2, word):\n",
    "    name_1 = unidecode.unidecode(name_1).lower()\n",
    "    name_2 = unidecode.unidecode(name_2).lower()\n",
    "    word = unidecode.unidecode(word).lower()\n",
    "    chr_list = \"\"\n",
    "    base = word\n",
    "    name = \"\".join(set(base)) + name_1 + name_2\n",
    "    for b in base:\n",
    "        n = 0\n",
    "        for chr_ in name:\n",
    "            if chr_ == b:\n",
    "                n += 1\n",
    "        chr_list += str(n)\n",
    "    return chr_list\n"
   ]
  },
  {
   "cell_type": "code",
   "execution_count": 394,
   "metadata": {},
   "outputs": [
    {
     "data": {
      "text/plain": [
       "'38%'"
      ]
     },
     "execution_count": 394,
     "metadata": {},
     "output_type": "execute_result"
    }
   ],
   "source": [
    "love_compute(\"name_1\", \"name_2\", \"word\", normalize=True)"
   ]
  }
 ],
 "metadata": {
  "kernelspec": {
   "display_name": "Python 3",
   "language": "python",
   "name": "python3"
  },
  "language_info": {
   "codemirror_mode": {
    "name": "ipython",
    "version": 3
   },
   "file_extension": ".py",
   "mimetype": "text/x-python",
   "name": "python",
   "nbconvert_exporter": "python",
   "pygments_lexer": "ipython3",
   "version": "3.7.3"
  }
 },
 "nbformat": 4,
 "nbformat_minor": 4
}
